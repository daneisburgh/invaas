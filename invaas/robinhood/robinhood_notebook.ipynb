{
 "cells": [
  {
   "cell_type": "code",
   "execution_count": 1,
   "metadata": {},
   "outputs": [],
   "source": [
    "import json\n",
    "import os\n",
    "import sys\n",
    "\n",
    "app_env = os.getenv(\"APP_ENV\", \"local\")\n",
    "app_files_path = os.getenv(\"APP_FILES_PATH\")\n",
    "\n",
    "# %pip install $app_files_path\n",
    "\n",
    "sys.path.append((app_files_path if app_env != \"local\" else os.path.abspath(os.path.join(\"..\"))))"
   ]
  },
  {
   "cell_type": "code",
   "execution_count": 2,
   "metadata": {},
   "outputs": [
    {
     "name": "stdout",
     "output_type": "stream",
     "text": [
      "2024-10-16 13:50:31 WARNING No DBUtils defined in the runtime\n",
      "2024-10-16 13:50:31 INFO Initializing task for local environment\n",
      "2024-10-16 13:50:31 INFO Logging in to Robinhood\n",
      "2024-10-16 13:50:31 INFO Available cash: $1397.84\n"
     ]
    }
   ],
   "source": [
    "from invaas.robinhood.robinhood_task import RobinhoodTask\n",
    "\n",
    "task = RobinhoodTask(env=app_env)\n",
    "task.setup_api()"
   ]
  },
  {
   "cell_type": "code",
   "execution_count": 3,
   "metadata": {},
   "outputs": [],
   "source": [
    "# task.robinhood_api.load_account_profile()"
   ]
  },
  {
   "cell_type": "code",
   "execution_count": 4,
   "metadata": {},
   "outputs": [
    {
     "name": "stdout",
     "output_type": "stream",
     "text": [
      "2024-10-16 13:50:32 INFO Current SPY RSI: 61\n",
      "2024-10-16 13:50:32 INFO Current fear greed index timestamp: 2024-10-16 00:00:00\n",
      "2024-10-16 13:50:32 INFO Current fear greed index: 68\n",
      "2024-10-16 13:50:32 INFO Previous max fear greed index: 75\n",
      "2024-10-16 13:50:32 INFO Previous min fear greed index: 67\n"
     ]
    }
   ],
   "source": [
    "rsi = task.get_rsi()\n",
    "(\n",
    "    current_fear_greed_index_timestamp,\n",
    "    current_fear_greed_index,\n",
    "    previous_max_fear_greed_index,\n",
    "    previous_min_fear_greed_index,\n",
    ") = task.get_fear_greed_index_data()"
   ]
  },
  {
   "cell_type": "code",
   "execution_count": 5,
   "metadata": {},
   "outputs": [
    {
     "name": "stdout",
     "output_type": "stream",
     "text": [
      "Expiration date: 2024-11-08\n",
      "Getting options...\n"
     ]
    },
    {
     "name": "stdout",
     "output_type": "stream",
     "text": [
      "Found Additional pages.\n",
      "Loading page 2 ...\n",
      "Loading page 3 ...\n",
      "2024-10-16 13:50:36 WARNING Connection pool is full, discarding connection: api.robinhood.com. Connection pool size: 10\n",
      "2024-10-16 13:50:36 WARNING Connection pool is full, discarding connection: api.robinhood.com. Connection pool size: 10\n"
     ]
    }
   ],
   "source": [
    "import numpy as np\n",
    "import pandas as pd\n",
    "\n",
    "from datetime import date, timedelta\n",
    "from multiprocessing.pool import ThreadPool\n",
    "\n",
    "\n",
    "def get_friday_n_days_from_today(n):\n",
    "    next_day = date.today() + timedelta(days=n)\n",
    "    return str(next_day + timedelta((4 - next_day.weekday()) % 7))\n",
    "\n",
    "\n",
    "expiration_date = get_friday_n_days_from_today(task.periods)\n",
    "print(f\"Expiration date: {expiration_date}\")\n",
    "\n",
    "\n",
    "def find_options_by_specific_profitability_threaded(\n",
    "    inputSymbols,\n",
    "    expirationDate=None,\n",
    "    strikePrice=None,\n",
    "    optionType=None,\n",
    "    typeProfit=\"chance_of_profit_short\",\n",
    "    profitFloor=0.0,\n",
    "    profitCeiling=1.0,\n",
    "    info=None,\n",
    "):\n",
    "    symbol = inputSymbols\n",
    "    tempData = task.robinhood_api.find_tradable_options(symbol, expirationDate, strikePrice, optionType, info=None)\n",
    "    tempData = [x for x in tempData if x.get(\"expiration_date\") == expirationDate]\n",
    "\n",
    "    def get_option_data(option):\n",
    "        market_data = task.robinhood_api.get_option_market_data_by_id(option[\"id\"])\n",
    "\n",
    "        if len(market_data):\n",
    "            option.update(market_data[0])\n",
    "\n",
    "            try:\n",
    "                floatValue = float(option[typeProfit])\n",
    "                if floatValue >= profitFloor and floatValue <= profitCeiling:\n",
    "                    return option\n",
    "            except Exception as e:\n",
    "                print(e)\n",
    "                pass\n",
    "\n",
    "    pool = ThreadPool(processes=12)\n",
    "    data = [x for x in pool.map(get_option_data, tempData) if x]\n",
    "\n",
    "    return task.robinhood_api.filter_data(data, info)\n",
    "\n",
    "\n",
    "print(\"Getting options...\")\n",
    "\n",
    "# options_data = task.robinhood_api.find_options_by_specific_profitability(\n",
    "options_data = find_options_by_specific_profitability_threaded(\n",
    "    inputSymbols=task.symbol, expirationDate=expiration_date, profitFloor=0.95\n",
    ")\n",
    "\n",
    "df_options = pd.DataFrame(data=options_data)\n",
    "\n",
    "# df_options"
   ]
  },
  {
   "cell_type": "code",
   "execution_count": 6,
   "metadata": {},
   "outputs": [
    {
     "name": "stdout",
     "output_type": "stream",
     "text": [
      "Min buy price: $0.20\n",
      "Max buy price: $1.40\n"
     ]
    },
    {
     "data": {
      "text/html": [
       "<div>\n",
       "<style scoped>\n",
       "    .dataframe tbody tr th:only-of-type {\n",
       "        vertical-align: middle;\n",
       "    }\n",
       "\n",
       "    .dataframe tbody tr th {\n",
       "        vertical-align: top;\n",
       "    }\n",
       "\n",
       "    .dataframe thead th {\n",
       "        text-align: right;\n",
       "    }\n",
       "</style>\n",
       "<table border=\"1\" class=\"dataframe\">\n",
       "  <thead>\n",
       "    <tr style=\"text-align: right;\">\n",
       "      <th></th>\n",
       "      <th>symbol</th>\n",
       "      <th>type</th>\n",
       "      <th>chance_of_profit_short</th>\n",
       "      <th>strike_price</th>\n",
       "      <th>ask_size</th>\n",
       "      <th>bid_size</th>\n",
       "      <th>last_trade_size</th>\n",
       "      <th>ask_price</th>\n",
       "      <th>bid_price</th>\n",
       "      <th>last_trade_price</th>\n",
       "    </tr>\n",
       "  </thead>\n",
       "  <tbody>\n",
       "    <tr>\n",
       "      <th>29</th>\n",
       "      <td>SPY</td>\n",
       "      <td>put</td>\n",
       "      <td>0.99</td>\n",
       "      <td>410.0</td>\n",
       "      <td>566</td>\n",
       "      <td>268</td>\n",
       "      <td>1.0</td>\n",
       "      <td>0.24</td>\n",
       "      <td>0.23</td>\n",
       "      <td>0.23</td>\n",
       "    </tr>\n",
       "    <tr>\n",
       "      <th>37</th>\n",
       "      <td>SPY</td>\n",
       "      <td>put</td>\n",
       "      <td>0.98</td>\n",
       "      <td>455.0</td>\n",
       "      <td>442</td>\n",
       "      <td>504</td>\n",
       "      <td>245.0</td>\n",
       "      <td>0.42</td>\n",
       "      <td>0.40</td>\n",
       "      <td>0.42</td>\n",
       "    </tr>\n",
       "  </tbody>\n",
       "</table>\n",
       "</div>"
      ],
      "text/plain": [
       "   symbol type  chance_of_profit_short  strike_price  ask_size  bid_size  \\\n",
       "29    SPY  put                    0.99         410.0       566       268   \n",
       "37    SPY  put                    0.98         455.0       442       504   \n",
       "\n",
       "    last_trade_size  ask_price  bid_price  last_trade_price  \n",
       "29              1.0       0.24       0.23              0.23  \n",
       "37            245.0       0.42       0.40              0.42  "
      ]
     },
     "execution_count": 6,
     "metadata": {},
     "output_type": "execute_result"
    }
   ],
   "source": [
    "min_amount = 10\n",
    "min_buy_price = 0.2\n",
    "max_buy_price = task.available_cash / 10 / 100\n",
    "# max_buy_price = 200\n",
    "round_decimals = 2\n",
    "\n",
    "print(f\"Min buy price: ${min_buy_price:.2f}\")\n",
    "print(f\"Max buy price: ${max_buy_price:.2f}\")\n",
    "\n",
    "numeric_columns = [\n",
    "    \"chance_of_profit_short\",\n",
    "    \"strike_price\",\n",
    "    \"ask_size\",\n",
    "    \"bid_size\",\n",
    "    \"last_trade_size\",\n",
    "    # \"open_interest\",\n",
    "    # \"volume\",\n",
    "    # \"mark_price\",\n",
    "    \"ask_price\",\n",
    "    \"bid_price\",\n",
    "    \"last_trade_price\",\n",
    "    # \"high_fill_rate_buy_price\",\n",
    "    # \"high_fill_rate_sell_price\",\n",
    "]\n",
    "\n",
    "for column in numeric_columns:\n",
    "    df_options[column] = np.round(pd.to_numeric(df_options[column]), decimals=round_decimals)\n",
    "\n",
    "# df_options[\"high_fill_rate_price_diff\"] = np.round(\n",
    "#     df_options.high_fill_rate_sell_price - df_options.high_fill_rate_buy_price, decimals=round_decimals\n",
    "# )\n",
    "\n",
    "df_options_filtered = df_options.loc[\n",
    "    (df_options.tradability == \"tradable\")\n",
    "    & (df_options.rhs_tradability == \"tradable\")\n",
    "    & (df_options.state == \"active\")\n",
    "    & (df_options.ask_size > min_amount)\n",
    "    & (df_options.bid_size > min_amount)\n",
    "    # & (df_options.last_trade_size > min_amount)\n",
    "    & (df_options.open_interest > min_amount)\n",
    "    & (df_options.volume > min_amount)\n",
    "    & (df_options.ask_price > min_buy_price)\n",
    "    & (df_options.ask_price < max_buy_price)\n",
    "    # & (df_options.high_fill_rate_buy_price < df_options.high_fill_rate_sell_price)\n",
    "]\n",
    "\n",
    "# df_options_filtered = df_options_filtered.sort_values(\n",
    "#     by=[\"high_fill_rate_price_diff\", \"chance_of_profit_short\"],\n",
    "#     # by=[\"chance_of_profit_short\", \"high_fill_rate_price_diff\"],\n",
    "#     ascending=[False, False],\n",
    "# )[\n",
    "df_options_filtered = df_options_filtered.sort_values(by=\"chance_of_profit_short\", ascending=False)[\n",
    "    [\n",
    "        \"symbol\",\n",
    "        # \"id\",\n",
    "        \"type\",\n",
    "        # \"min_ticks\",\n",
    "    ]\n",
    "    + numeric_columns\n",
    "    # + [\"high_fill_rate_price_diff\"]\n",
    "]\n",
    "\n",
    "# df_options_filtered.loc[df_options_filtered.high_fill_rate_buy_price <= df_options_filtered.high_fill_rate_sell_price]\n",
    "df_options_filtered"
   ]
  },
  {
   "cell_type": "code",
   "execution_count": 7,
   "metadata": {},
   "outputs": [
    {
     "name": "stdout",
     "output_type": "stream",
     "text": [
      "Option to purchase:\n",
      "{\n",
      "    \"symbol\": \"SPY\",\n",
      "    \"type\": \"put\",\n",
      "    \"chance_of_profit_short\": 0.99,\n",
      "    \"strike_price\": 410.0,\n",
      "    \"ask_size\": 566,\n",
      "    \"bid_size\": 268,\n",
      "    \"last_trade_size\": 1.0,\n",
      "    \"ask_price\": 0.24,\n",
      "    \"bid_price\": 0.23,\n",
      "    \"last_trade_price\": 0.23\n",
      "}\n"
     ]
    }
   ],
   "source": [
    "option_to_purchase = None\n",
    "\n",
    "if len(df_options_filtered) > 0:\n",
    "    option_to_purchase = df_options_filtered.to_dict(orient=\"records\")[0]\n",
    "    print(\"Option to purchase:\")\n",
    "    print(json.dumps(option_to_purchase, indent=4))\n",
    "else:\n",
    "    print(\"No option to purchase\")"
   ]
  },
  {
   "cell_type": "code",
   "execution_count": 8,
   "metadata": {},
   "outputs": [],
   "source": [
    "# print(\"Canceling all option orders...\")\n",
    "# task.robinhood_api.cancel_all_option_orders()"
   ]
  },
  {
   "cell_type": "code",
   "execution_count": 9,
   "metadata": {},
   "outputs": [],
   "source": [
    "# if option_to_purchase is not None:\n",
    "#     print(\n",
    "#         json.dumps(\n",
    "#             task.robinhood_api.order_buy_option_limit(\n",
    "#                 positionEffect=\"open\",\n",
    "#                 creditOrDebit=\"debit\",\n",
    "#                 timeInForce=\"gtc\",\n",
    "#                 quantity=1,\n",
    "#                 symbol=task.symbol,\n",
    "#                 expirationDate=expiration_date,\n",
    "#                 optionType=option_to_purchase[\"type\"],\n",
    "#                 strike=option_to_purchase[\"strike_price\"],\n",
    "#                 price=option_to_purchase[\"ask_price\"],\n",
    "#             ),\n",
    "#             indent=4,\n",
    "#         )\n",
    "#     )"
   ]
  },
  {
   "cell_type": "code",
   "execution_count": 10,
   "metadata": {},
   "outputs": [],
   "source": [
    "# if option_to_purchase is not None:\n",
    "#     print(\n",
    "#         json.dumps(\n",
    "#             task.robinhood_api.order_sell_option_limit(\n",
    "#                 positionEffect=\"close\",\n",
    "#                 creditOrDebit=\"credit\",\n",
    "#                 timeInForce=\"gtc\",\n",
    "#                 quantity=1,\n",
    "#                 symbol=task.symbol,\n",
    "#                 expirationDate=expiration_date,\n",
    "#                 optionType=option_to_purchase[\"type\"],\n",
    "#                 strike=option_to_purchase[\"strike_price\"],\n",
    "#                 price=round(option_to_purchase[\"ask_price\"] * 1.1, 2),\n",
    "#             ),\n",
    "#             indent=4,\n",
    "#         )\n",
    "#     )"
   ]
  }
 ],
 "metadata": {
  "kernelspec": {
   "display_name": "Python 3",
   "language": "python",
   "name": "python3"
  },
  "language_info": {
   "codemirror_mode": {
    "name": "ipython",
    "version": 3
   },
   "file_extension": ".py",
   "mimetype": "text/x-python",
   "name": "python",
   "nbconvert_exporter": "python",
   "pygments_lexer": "ipython3",
   "version": "3.10.12"
  }
 },
 "nbformat": 4,
 "nbformat_minor": 4
}
