{
 "cells": [
  {
   "cell_type": "code",
   "execution_count": 1,
   "metadata": {},
   "outputs": [
    {
     "name": "stdout",
     "output_type": "stream",
     "text": [
      "Defaulting to user installation because normal site-packages is not writeable\n",
      "\u001b[31mERROR: Invalid requirement: '/Workspace/Shared/.bundle/prod/invaas/files'\n",
      "Hint: It looks like a path. File '/Workspace/Shared/.bundle/prod/invaas/files' does not exist.\u001b[0m\u001b[31m\n",
      "\u001b[0mNote: you may need to restart the kernel to use updated packages.\n"
     ]
    }
   ],
   "source": [
    "import os\n",
    "import sys\n",
    "\n",
    "app_env = os.getenv(\"APP_ENV\")\n",
    "app_files_path = os.getenv(\"APP_FILES_PATH\")\n",
    "\n",
    "%pip install $app_files_path --no-cache-dir --no-binary=invaas\n",
    "\n",
    "sys.path.append((app_files_path if app_env != \"local\" else os.path.abspath(os.path.join(\"..\"))))"
   ]
  },
  {
   "cell_type": "code",
   "execution_count": null,
   "metadata": {},
   "outputs": [],
   "source": [
    "%sh playwright install"
   ]
  },
  {
   "cell_type": "code",
   "execution_count": 2,
   "metadata": {},
   "outputs": [
    {
     "name": "stdout",
     "output_type": "stream",
     "text": [
      "2023-12-11 21:27:14 WARNING No DBUtils defined in the runtime\n",
      "2023-12-11 21:27:14 INFO Initializing task for local environment\n",
      "2023-12-11 21:27:14 INFO Products to trade: ['VUG']\n",
      "2023-12-11 21:27:15 INFO Current fear greed index: 67\n",
      "2023-12-11 21:27:15 INFO Min buy amount: $2\n",
      "2023-12-11 21:27:15 INFO Max buy amount: $100\n"
     ]
    }
   ],
   "source": [
    "from invaas.schwab.schwab_task import SchwabTask\n",
    "\n",
    "task = SchwabTask()\n",
    "await task.setup_api()"
   ]
  },
  {
   "cell_type": "code",
   "execution_count": null,
   "metadata": {},
   "outputs": [],
   "source": [
    "task.create_orders()"
   ]
  }
 ],
 "metadata": {
  "kernelspec": {
   "display_name": "Python 3 (ipykernel)",
   "language": "python",
   "name": "python3"
  },
  "language_info": {
   "codemirror_mode": {
    "name": "ipython",
    "version": 3
   },
   "file_extension": ".py",
   "mimetype": "text/x-python",
   "name": "python",
   "nbconvert_exporter": "python",
   "pygments_lexer": "ipython3",
   "version": "3.10.12"
  }
 },
 "nbformat": 4,
 "nbformat_minor": 4
}
