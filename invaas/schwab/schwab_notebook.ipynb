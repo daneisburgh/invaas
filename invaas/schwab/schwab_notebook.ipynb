{
 "cells": [
  {
   "cell_type": "code",
   "execution_count": 7,
   "metadata": {},
   "outputs": [],
   "source": [
    "import os\n",
    "import sys\n",
    "\n",
    "app_env = os.getenv(\"APP_ENV\", \"local\")\n",
    "app_files_path = os.getenv(\"APP_FILES_PATH\")\n",
    "\n",
    "%pip install $app_files_path --no-cache-dir --no-binary=invaas\n",
    "\n",
    "sys.path.append((app_files_path if app_env != \"local\" else os.path.abspath(os.path.join(\"..\"))))"
   ]
  },
  {
   "cell_type": "code",
   "execution_count": 2,
   "metadata": {},
   "outputs": [],
   "source": [
    "%sh playwright install"
   ]
  },
  {
   "cell_type": "code",
   "execution_count": 3,
   "metadata": {},
   "outputs": [
    {
     "name": "stdout",
     "output_type": "stream",
     "text": [
      "2024-01-23 22:55:35 WARNING No DBUtils defined in the runtime\n",
      "2024-01-23 22:55:35 INFO Initializing task for local environment\n",
      "2024-01-23 22:55:35 INFO Products to trade: ['VUG']\n",
      "2024-01-23 22:55:35 INFO Current fear greed index: 73\n",
      "2024-01-23 22:55:35 INFO Min buy amount: $2\n",
      "2024-01-23 22:55:35 INFO Max buy amount: $100\n",
      "2024-01-23 22:55:35 INFO Logging in to Schwab\n"
     ]
    }
   ],
   "source": [
    "from invaas.schwab.schwab_task import SchwabTask\n",
    "\n",
    "task = SchwabTask(env=app_env)\n",
    "await task.setup_api()"
   ]
  },
  {
   "cell_type": "code",
   "execution_count": 4,
   "metadata": {},
   "outputs": [
    {
     "name": "stdout",
     "output_type": "stream",
     "text": [
      "2024-01-23 22:55:48 INFO Account info:\n",
      "2024-01-23 22:55:48 INFO {47004171: {'account_id': '47004171', 'positions': [{'symbol': 'AAPL', 'description': 'APPLE INC', 'quantity': 0.0256, 'cost': 4.98, 'market_value': 5.0}], 'market_value': 5, 'available_cash': 595.43, 'account_value': 600.43, 'cost_basis': 4.98}, 92415973: {'account_id': '92415973', 'positions': [], 'market_value': 0, 'available_cash': 0, 'account_value': 0, 'cost_basis': 0}}\n",
      "2024-01-23 22:55:48 INFO AAPL stock quote:\n",
      "2024-01-23 22:55:48 INFO [{'symbol': 'AAPL', 'securityType': 'Stock', 'quote': {'last': '194.83', 'lastSize': 1, 'lastExch': 'XADF', 'lastTradeTimeStamp': '2024-01-23T17:55:46', 'bid': '194.80', 'bidSize': 5, 'bidExch': 'EDGX', 'bidTimeStamp': '2024-01-23T17:55:02', 'closeBidTimeStamp': None, 'ask': '194.86', 'askSize': 1, 'askExch': 'EDGX', 'askTimeStamp': '2024-01-23T17:55:02', 'closeAskTimeStamp': None, 'closeTimeStamp': None, 'symbolCusipId': '037833100', 'description': 'Apple Inc', 'underlying': 'AAPL', 'volume': 42292930, 'netChange': '0.94', 'netChangePercent': '0.48', 'previousDayClose': '193.89', 'dayOpen': '195.02', 'dayHigh': '195.75', 'dayLow': '193.83', 'high52Week': '199.62', 'low52Week': '138.81', 'openInterest': 0, 'marketConditionCd': 'N', 'tradeConditionCd': 'NA', 'financialStatusCd': 'NA', 'mark': '194.86', 'markChange': '0.97', 'markChangePercent': '0.50', 'financialStatusText': 'NA'}}]\n",
      "2024-01-23 22:55:48 INFO Placing a dry run sell trade for AAPL stock\n",
      "2024-01-23 22:55:49 INFO The order verification was successful\n",
      "2024-01-23 22:55:49 INFO The order verification produced the following messages:\n",
      "2024-01-23 22:55:49 INFO ['This account currently holds 0.0256 shares of AAPL.  (AC109)', 'The market is now closed.  This order will be placed for the next trading day.  (DO294)', 'This order will be entered for the next standard market session  and will NOT be entered in the Extended Hours Trading session. Please be aware that because of extended hours trading activity, this quote is subject to change.  (DO667)', '*It is your responsibility to choose the cost basis method appropriate to your tax situation. Failure to select the proper cost basis method may cause you to pay more tax than necessary. Schwab does not provide tax advice and encourages you to consult with your tax professional. View <A href=\"javascript:open(\\'https://client.schwab.com/secure/cc/help/trade/stocks/tradestocks_verification?cmsid=P-2522495&lvl1=help&lvl2=trade#cost_basis\\',682,520,\\'YES\\')\">Cost Basis Reporting</A> for additional information on <A href=\"javascript:open(\\'https://client.schwab.com/secure/cc/help/trade/stocks/tradestocks_verification?cmsid=P-2522495&lvl1=help&lvl2=trade#cost_basis\\',682,520,\\'YES\\')\">cost basis method choices</A> and how Schwab reports adjusted cost basis information to the IRS.  (OE917)', 'Quote at the time of order verification: $194.80 Bid Close']\n",
      "2024-01-23 22:55:49 INFO Placing a dry run trade for buy slice AAPL and GOOG stock\n",
      "2024-01-23 22:55:50 INFO The order verification was successful\n",
      "2024-01-23 22:55:50 INFO The order verification produced the following messages:\n",
      "2024-01-23 22:55:50 INFO [{'Severity': '25', 'Message': 'By selecting \"Place Order(s),\" you acknowledge and agree that your order(s) will be placed as Market, Day Only, Not Held order(s). A \"not held\" order means that you grant Schwab time and price discretion to transact your order(s) on a best-efforts basis. There may be a delay between the time when your order(s) are executed and when they appear in your account. These order(s) cannot be canceled during standard trading hours. By proceeding, you further agree to be bound by the <a href=\"/secure/file/P-12533231\" target=\"_blank\">Schwab Stock Slices Terms and Conditions</a>. (DO3110)', 'MessageCode': 'DO3110'}, {'Severity': '20', 'Message': \"Orders placed while the market is closed will be executed on the next trading day, subject to Schwab's closed trading window at market open, at which time the stock's price could be significantly different from its prior close.  (DO3109)\", 'MessageCode': 'DO3109'}]\n"
     ]
    }
   ],
   "source": [
    "task.create_orders()"
   ]
  }
 ],
 "metadata": {
  "kernelspec": {
   "display_name": "Python 3 (ipykernel)",
   "language": "python",
   "name": "python3"
  },
  "language_info": {
   "codemirror_mode": {
    "name": "ipython",
    "version": 3
   },
   "file_extension": ".py",
   "mimetype": "text/x-python",
   "name": "python",
   "nbconvert_exporter": "python",
   "pygments_lexer": "ipython3",
   "version": "3.10.12"
  }
 },
 "nbformat": 4,
 "nbformat_minor": 4
}
