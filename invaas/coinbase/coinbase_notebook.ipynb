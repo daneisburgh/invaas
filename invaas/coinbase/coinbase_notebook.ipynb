{
 "cells": [
  {
   "cell_type": "code",
   "execution_count": null,
   "id": "58a7fbc0-7d3d-4d5c-987a-409bcaa91e37",
   "metadata": {},
   "outputs": [],
   "source": [
    "import os\n",
    "import sys\n",
    "\n",
    "app_env = os.getenv(\"APP_ENV\", \"local\")\n",
    "app_files_path = os.getenv(\"APP_FILES_PATH\")\n",
    "\n",
    "%pip install $app_files_path --no-cache-dir --no-binary=invaas\n",
    "\n",
    "sys.path.append((app_files_path if app_env != \"local\" else os.path.abspath(os.path.join(\"..\"))))"
   ]
  },
  {
   "cell_type": "code",
   "execution_count": null,
   "id": "2fd2ae83",
   "metadata": {},
   "outputs": [],
   "source": [
    "from invaas.coinbase.coinbase_task import CoinbaseTask\n",
    "\n",
    "task = CoinbaseTask(env=app_env)"
   ]
  },
  {
   "cell_type": "code",
   "execution_count": null,
   "id": "22a76508",
   "metadata": {},
   "outputs": [],
   "source": [
    "task.create_orders()"
   ]
  }
 ],
 "metadata": {
  "kernelspec": {
   "display_name": "Python 3 (ipykernel)",
   "language": "python",
   "name": "python3"
  },
  "language_info": {
   "codemirror_mode": {
    "name": "ipython",
    "version": 3
   },
   "file_extension": ".py",
   "mimetype": "text/x-python",
   "name": "python",
   "nbconvert_exporter": "python",
   "pygments_lexer": "ipython3",
   "version": "3.10.12"
  }
 },
 "nbformat": 4,
 "nbformat_minor": 5
}
