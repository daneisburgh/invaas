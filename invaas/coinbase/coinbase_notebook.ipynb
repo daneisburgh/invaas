{
 "cells": [
  {
   "cell_type": "code",
   "execution_count": 1,
   "id": "58a7fbc0-7d3d-4d5c-987a-409bcaa91e37",
   "metadata": {},
   "outputs": [
    {
     "name": "stdout",
     "output_type": "stream",
     "text": [
      "Defaulting to user installation because normal site-packages is not writeable\n",
      "\u001b[31mERROR: Invalid requirement: '/Workspace/Shared/.bundle/prod/invaas/files'\n",
      "Hint: It looks like a path. File '/Workspace/Shared/.bundle/prod/invaas/files' does not exist.\u001b[0m\u001b[31m\n",
      "\u001b[0m\n",
      "\u001b[1m[\u001b[0m\u001b[34;49mnotice\u001b[0m\u001b[1;39;49m]\u001b[0m\u001b[39;49m A new release of pip is available: \u001b[0m\u001b[31;49m23.0.1\u001b[0m\u001b[39;49m -> \u001b[0m\u001b[32;49m23.3.1\u001b[0m\n",
      "\u001b[1m[\u001b[0m\u001b[34;49mnotice\u001b[0m\u001b[1;39;49m]\u001b[0m\u001b[39;49m To update, run: \u001b[0m\u001b[32;49mpip install --upgrade pip\u001b[0m\n",
      "Note: you may need to restart the kernel to use updated packages.\n"
     ]
    }
   ],
   "source": [
    "import os\n",
    "import sys\n",
    "\n",
    "app_env = os.getenv(\"APP-ENV\", \"local\")\n",
    "app_files_path = os.getenv(\"APP-FILES-PATH\")\n",
    "\n",
    "%pip install $app_files_path --no-cache-dir --no-binary=invaas\n",
    "\n",
    "sys.path.append((app_files_path if app_env != \"local\" else os.path.abspath(os.path.join(\"..\"))))"
   ]
  },
  {
   "cell_type": "code",
   "execution_count": 2,
   "id": "2fd2ae83",
   "metadata": {},
   "outputs": [
    {
     "name": "stdout",
     "output_type": "stream",
     "text": [
      "2023-12-03 21:21:19 WARNING No DBUtils defined in the runtime\n",
      "2023-12-03 21:21:19 INFO Initializing task for local environment\n",
      "2023-12-03 21:21:19 INFO Products to trade: ['ATOM-USD', 'BTC-USD', 'DOT-USD', 'ETH-USD', 'SOL-USD']\n",
      "2023-12-03 21:21:19 INFO Minimum fear greed index to buy: 60\n",
      "2023-12-03 21:21:19 INFO Current fear greed index: 73\n",
      "2023-12-03 21:21:19 INFO Min buy amount: $2\n",
      "2023-12-03 21:21:19 INFO Max buy amount: $100\n",
      "2023-12-03 21:21:19 INFO Max owned amount: $1000\n"
     ]
    }
   ],
   "source": [
    "from invaas.coinbase.coinbase_task import CoinbaseTask\n",
    "\n",
    "task = CoinbaseTask(env=app_env)"
   ]
  },
  {
   "cell_type": "code",
   "execution_count": null,
   "id": "22a76508",
   "metadata": {},
   "outputs": [],
   "source": [
    "task.create_orders()"
   ]
  }
 ],
 "metadata": {
  "kernelspec": {
   "display_name": "Python 3 (ipykernel)",
   "language": "python",
   "name": "python3"
  },
  "language_info": {
   "codemirror_mode": {
    "name": "ipython",
    "version": 3
   },
   "file_extension": ".py",
   "mimetype": "text/x-python",
   "name": "python",
   "nbconvert_exporter": "python",
   "pygments_lexer": "ipython3",
   "version": "3.10.12"
  }
 },
 "nbformat": 4,
 "nbformat_minor": 5
}
