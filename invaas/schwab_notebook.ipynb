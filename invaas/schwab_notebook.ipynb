{
 "cells": [
  {
   "cell_type": "code",
   "execution_count": null,
   "metadata": {},
   "outputs": [],
   "source": [
    "%pip install /Workspace/Shared/.bundle/prod/invaas/files"
   ]
  },
  {
   "cell_type": "code",
   "execution_count": null,
   "metadata": {},
   "outputs": [],
   "source": [
    "import os\n",
    "import sys\n",
    "\n",
    "from dotenv import load_dotenv, find_dotenv\n",
    "\n",
    "load_dotenv(find_dotenv())\n",
    "app_env = os.getenv(\"APP-ENV\")\n",
    "app_source = os.getenv(\"APP-SOURCE\")\n",
    "\n",
    "sys.path.append((app_source if app_env != \"local\" else os.path.abspath(os.path.join(\"..\"))))\n",
    "\n",
    "from invaas.schwab.schwab_task import SchwabTask\n",
    "\n",
    "task = SchwabTask(env=app_env)"
   ]
  },
  {
   "cell_type": "markdown",
   "metadata": {},
   "source": [
    "task.create_orders()"
   ]
  }
 ],
 "metadata": {
  "language_info": {
   "name": "python"
  }
 },
 "nbformat": 4,
 "nbformat_minor": 2
}
