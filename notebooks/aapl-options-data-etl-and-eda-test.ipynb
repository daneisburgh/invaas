{
 "cells": [
  {
   "cell_type": "code",
   "execution_count": 1,
   "id": "563c124a",
   "metadata": {
    "_cell_guid": "b1076dfc-b9ad-4769-8c92-a6c4dae69d19",
    "_uuid": "8f2839f25d086af736a60e9eeb907d3b93b6e0e5",
    "papermill": {
     "duration": 0.037344,
     "end_time": "2023-02-27T05:31:50.171956",
     "exception": false,
     "start_time": "2023-02-27T05:31:50.134612",
     "status": "completed"
    },
    "tags": []
   },
   "outputs": [
    {
     "name": "stdout",
     "output_type": "stream",
     "text": [
      "data/aapl-options-data-2020-2023/aapl_2016_2020.csv\n",
      "data/aapl-options-data-2020-2023/aapl_2021_2023.csv\n"
     ]
    }
   ],
   "source": [
    "# This Python 3 environment comes with many helpful analytics libraries installed\n",
    "# It is defined by the kaggle/python Docker image: https://github.com/kaggle/docker-python\n",
    "# For example, here's several helpful packages to load\n",
    "\n",
    "import matplotlib.pyplot as plt\n",
    "import numpy as np  # linear algebra\n",
    "import pandas as pd  # data processing, CSV file I/O (e.g. pd.read_csv)\n",
    "\n",
    "# Input data files are available in the read-only \"../input/\" directory\n",
    "# For example, running this (by clicking run or pressing Shift+Enter) will list all files under the input directory\n",
    "\n",
    "import os\n",
    "\n",
    "for dirname, _, filenames in os.walk(\"data/aapl-options-data-2020-2023\"):\n",
    "    for filename in filenames:\n",
    "        print(os.path.join(dirname, filename))\n",
    "\n",
    "# You can write up to 20GB to the current directory (/kaggle/working/) that gets preserved as output when you create a version using \"Save & Run All\"\n",
    "# You can also write temporary files to /kaggle/temp/, but they won't be saved outside of the current session"
   ]
  },
  {
   "cell_type": "markdown",
   "id": "58839867",
   "metadata": {
    "papermill": {
     "duration": 0.005905,
     "end_time": "2023-02-27T05:31:50.185138",
     "exception": false,
     "start_time": "2023-02-27T05:31:50.179233",
     "status": "completed"
    },
    "tags": []
   },
   "source": [
    "## Introduction\n",
    "\n",
    "### This notebook serves as an introduction into the AAPL Daily Options Quotes: 2016-2020 dataset.\n",
    "\n",
    "### If you find the content useful, please leave an upvote, comment, and/or follow!\n",
    "\n",
    "We start by loading the data into a pandas dataframe. This dataset is rather large (n=1015352), so we must keep this in mind when working with our data. We will need to keep \"big O\" in mind to stay within the resource constraints of the Kaggle Jupyter notebook.\n"
   ]
  },
  {
   "cell_type": "code",
   "execution_count": 2,
   "id": "0300e44e",
   "metadata": {
    "papermill": {
     "duration": 12.35202,
     "end_time": "2023-02-27T05:32:02.543282",
     "exception": false,
     "start_time": "2023-02-27T05:31:50.191262",
     "status": "completed"
    },
    "tags": []
   },
   "outputs": [
    {
     "name": "stderr",
     "output_type": "stream",
     "text": [
      "/tmp/ipykernel_33972/2890174497.py:1: DtypeWarning: Columns (15,17,18,20,21,23) have mixed types. Specify dtype option on import or set low_memory=False.\n",
      "  raw_df = pd.read_csv('data/aapl-options-data-2020-2023/aapl_2021_2023.csv')\n"
     ]
    },
    {
     "data": {
      "text/html": [
       "<div>\n",
       "<style scoped>\n",
       "    .dataframe tbody tr th:only-of-type {\n",
       "        vertical-align: middle;\n",
       "    }\n",
       "\n",
       "    .dataframe tbody tr th {\n",
       "        vertical-align: top;\n",
       "    }\n",
       "\n",
       "    .dataframe thead th {\n",
       "        text-align: right;\n",
       "    }\n",
       "</style>\n",
       "<table border=\"1\" class=\"dataframe\">\n",
       "  <thead>\n",
       "    <tr style=\"text-align: right;\">\n",
       "      <th></th>\n",
       "      <th>[QUOTE_UNIXTIME]</th>\n",
       "      <th>[QUOTE_READTIME]</th>\n",
       "      <th>[QUOTE_DATE]</th>\n",
       "      <th>[QUOTE_TIME_HOURS]</th>\n",
       "      <th>[UNDERLYING_LAST]</th>\n",
       "      <th>[EXPIRE_DATE]</th>\n",
       "      <th>[EXPIRE_UNIX]</th>\n",
       "      <th>[DTE]</th>\n",
       "      <th>[C_DELTA]</th>\n",
       "      <th>[C_GAMMA]</th>\n",
       "      <th>...</th>\n",
       "      <th>[P_LAST]</th>\n",
       "      <th>[P_DELTA]</th>\n",
       "      <th>[P_GAMMA]</th>\n",
       "      <th>[P_VEGA]</th>\n",
       "      <th>[P_THETA]</th>\n",
       "      <th>[P_RHO]</th>\n",
       "      <th>[P_IV]</th>\n",
       "      <th>[P_VOLUME]</th>\n",
       "      <th>[STRIKE_DISTANCE]</th>\n",
       "      <th>[STRIKE_DISTANCE_PCT]</th>\n",
       "    </tr>\n",
       "  </thead>\n",
       "  <tbody>\n",
       "    <tr>\n",
       "      <th>0</th>\n",
       "      <td>1656705600</td>\n",
       "      <td>2022-07-01 16:00</td>\n",
       "      <td>2022-07-01</td>\n",
       "      <td>16.0</td>\n",
       "      <td>138.90</td>\n",
       "      <td>2022-07-01</td>\n",
       "      <td>1656705600</td>\n",
       "      <td>0.00</td>\n",
       "      <td>1.00000</td>\n",
       "      <td>0.00000</td>\n",
       "      <td>...</td>\n",
       "      <td>0.020000</td>\n",
       "      <td>-0.00093</td>\n",
       "      <td>0.00004</td>\n",
       "      <td>0.00011</td>\n",
       "      <td>-0.00547</td>\n",
       "      <td>0.0</td>\n",
       "      <td>4.889460</td>\n",
       "      <td>0.000000</td>\n",
       "      <td>68.9</td>\n",
       "      <td>0.496</td>\n",
       "    </tr>\n",
       "    <tr>\n",
       "      <th>1</th>\n",
       "      <td>1656705600</td>\n",
       "      <td>2022-07-01 16:00</td>\n",
       "      <td>2022-07-01</td>\n",
       "      <td>16.0</td>\n",
       "      <td>138.90</td>\n",
       "      <td>2022-07-01</td>\n",
       "      <td>1656705600</td>\n",
       "      <td>0.00</td>\n",
       "      <td>1.00000</td>\n",
       "      <td>0.00000</td>\n",
       "      <td>...</td>\n",
       "      <td>0.010000</td>\n",
       "      <td>-0.00066</td>\n",
       "      <td>0.00001</td>\n",
       "      <td>0.00061</td>\n",
       "      <td>-0.00491</td>\n",
       "      <td>0.0</td>\n",
       "      <td>4.422080</td>\n",
       "      <td>0.000000</td>\n",
       "      <td>63.9</td>\n",
       "      <td>0.460</td>\n",
       "    </tr>\n",
       "    <tr>\n",
       "      <th>2</th>\n",
       "      <td>1656705600</td>\n",
       "      <td>2022-07-01 16:00</td>\n",
       "      <td>2022-07-01</td>\n",
       "      <td>16.0</td>\n",
       "      <td>138.90</td>\n",
       "      <td>2022-07-01</td>\n",
       "      <td>1656705600</td>\n",
       "      <td>0.00</td>\n",
       "      <td>1.00000</td>\n",
       "      <td>0.00000</td>\n",
       "      <td>...</td>\n",
       "      <td>0.010000</td>\n",
       "      <td>-0.00108</td>\n",
       "      <td>0.00009</td>\n",
       "      <td>-0.00012</td>\n",
       "      <td>-0.00455</td>\n",
       "      <td>0.0</td>\n",
       "      <td>3.984220</td>\n",
       "      <td>0.000000</td>\n",
       "      <td>58.9</td>\n",
       "      <td>0.424</td>\n",
       "    </tr>\n",
       "    <tr>\n",
       "      <th>3</th>\n",
       "      <td>1656705600</td>\n",
       "      <td>2022-07-01 16:00</td>\n",
       "      <td>2022-07-01</td>\n",
       "      <td>16.0</td>\n",
       "      <td>138.90</td>\n",
       "      <td>2022-07-01</td>\n",
       "      <td>1656705600</td>\n",
       "      <td>0.00</td>\n",
       "      <td>1.00000</td>\n",
       "      <td>0.00000</td>\n",
       "      <td>...</td>\n",
       "      <td>0.010000</td>\n",
       "      <td>-0.00100</td>\n",
       "      <td>0.00015</td>\n",
       "      <td>-0.00018</td>\n",
       "      <td>-0.00525</td>\n",
       "      <td>0.0</td>\n",
       "      <td>3.571790</td>\n",
       "      <td>0.000000</td>\n",
       "      <td>53.9</td>\n",
       "      <td>0.388</td>\n",
       "    </tr>\n",
       "    <tr>\n",
       "      <th>4</th>\n",
       "      <td>1656705600</td>\n",
       "      <td>2022-07-01 16:00</td>\n",
       "      <td>2022-07-01</td>\n",
       "      <td>16.0</td>\n",
       "      <td>138.90</td>\n",
       "      <td>2022-07-01</td>\n",
       "      <td>1656705600</td>\n",
       "      <td>0.00</td>\n",
       "      <td>0.99404</td>\n",
       "      <td>0.00067</td>\n",
       "      <td>...</td>\n",
       "      <td>0.010000</td>\n",
       "      <td>-0.00138</td>\n",
       "      <td>0.00014</td>\n",
       "      <td>0.00025</td>\n",
       "      <td>-0.00453</td>\n",
       "      <td>0.0</td>\n",
       "      <td>3.180820</td>\n",
       "      <td>0.000000</td>\n",
       "      <td>48.9</td>\n",
       "      <td>0.352</td>\n",
       "    </tr>\n",
       "    <tr>\n",
       "      <th>...</th>\n",
       "      <td>...</td>\n",
       "      <td>...</td>\n",
       "      <td>...</td>\n",
       "      <td>...</td>\n",
       "      <td>...</td>\n",
       "      <td>...</td>\n",
       "      <td>...</td>\n",
       "      <td>...</td>\n",
       "      <td>...</td>\n",
       "      <td>...</td>\n",
       "      <td>...</td>\n",
       "      <td>...</td>\n",
       "      <td>...</td>\n",
       "      <td>...</td>\n",
       "      <td>...</td>\n",
       "      <td>...</td>\n",
       "      <td>...</td>\n",
       "      <td>...</td>\n",
       "      <td>...</td>\n",
       "      <td>...</td>\n",
       "      <td>...</td>\n",
       "    </tr>\n",
       "    <tr>\n",
       "      <th>548158</th>\n",
       "      <td>1664568000</td>\n",
       "      <td>2022-09-30 16:00</td>\n",
       "      <td>2022-09-30</td>\n",
       "      <td>16.0</td>\n",
       "      <td>138.09</td>\n",
       "      <td>2025-01-17</td>\n",
       "      <td>1737147600</td>\n",
       "      <td>840.04</td>\n",
       "      <td>0.14059</td>\n",
       "      <td>0.00348</td>\n",
       "      <td>...</td>\n",
       "      <td>112.2</td>\n",
       "      <td>-1.00000</td>\n",
       "      <td>0.00000</td>\n",
       "      <td>0.00000</td>\n",
       "      <td>0.00000</td>\n",
       "      <td>0.0</td>\n",
       "      <td></td>\n",
       "      <td>0.000000</td>\n",
       "      <td>131.9</td>\n",
       "      <td>0.955</td>\n",
       "    </tr>\n",
       "    <tr>\n",
       "      <th>548159</th>\n",
       "      <td>1664568000</td>\n",
       "      <td>2022-09-30 16:00</td>\n",
       "      <td>2022-09-30</td>\n",
       "      <td>16.0</td>\n",
       "      <td>138.09</td>\n",
       "      <td>2025-01-17</td>\n",
       "      <td>1737147600</td>\n",
       "      <td>840.04</td>\n",
       "      <td>0.12515</td>\n",
       "      <td>0.00325</td>\n",
       "      <td>...</td>\n",
       "      <td>122.0</td>\n",
       "      <td>-1.00000</td>\n",
       "      <td>0.00000</td>\n",
       "      <td>0.00000</td>\n",
       "      <td>0.00000</td>\n",
       "      <td>0.0</td>\n",
       "      <td></td>\n",
       "      <td>0.000000</td>\n",
       "      <td>141.9</td>\n",
       "      <td>1.028</td>\n",
       "    </tr>\n",
       "    <tr>\n",
       "      <th>548160</th>\n",
       "      <td>1664568000</td>\n",
       "      <td>2022-09-30 16:00</td>\n",
       "      <td>2022-09-30</td>\n",
       "      <td>16.0</td>\n",
       "      <td>138.09</td>\n",
       "      <td>2025-01-17</td>\n",
       "      <td>1737147600</td>\n",
       "      <td>840.04</td>\n",
       "      <td>0.10893</td>\n",
       "      <td>0.00298</td>\n",
       "      <td>...</td>\n",
       "      <td>132.24</td>\n",
       "      <td>-1.00000</td>\n",
       "      <td>0.00000</td>\n",
       "      <td>0.00000</td>\n",
       "      <td>0.00000</td>\n",
       "      <td>0.0</td>\n",
       "      <td></td>\n",
       "      <td>0.000000</td>\n",
       "      <td>151.9</td>\n",
       "      <td>1.100</td>\n",
       "    </tr>\n",
       "    <tr>\n",
       "      <th>548161</th>\n",
       "      <td>1664568000</td>\n",
       "      <td>2022-09-30 16:00</td>\n",
       "      <td>2022-09-30</td>\n",
       "      <td>16.0</td>\n",
       "      <td>138.09</td>\n",
       "      <td>2025-01-17</td>\n",
       "      <td>1737147600</td>\n",
       "      <td>840.04</td>\n",
       "      <td>0.09147</td>\n",
       "      <td>0.00260</td>\n",
       "      <td>...</td>\n",
       "      <td>149.28</td>\n",
       "      <td>-1.00000</td>\n",
       "      <td>0.00000</td>\n",
       "      <td>0.00000</td>\n",
       "      <td>0.00000</td>\n",
       "      <td>0.0</td>\n",
       "      <td></td>\n",
       "      <td>0.000000</td>\n",
       "      <td>161.9</td>\n",
       "      <td>1.173</td>\n",
       "    </tr>\n",
       "    <tr>\n",
       "      <th>548162</th>\n",
       "      <td>1664568000</td>\n",
       "      <td>2022-09-30 16:00</td>\n",
       "      <td>2022-09-30</td>\n",
       "      <td>16.0</td>\n",
       "      <td>138.09</td>\n",
       "      <td>2025-01-17</td>\n",
       "      <td>1737147600</td>\n",
       "      <td>840.04</td>\n",
       "      <td>0.08505</td>\n",
       "      <td>0.00246</td>\n",
       "      <td>...</td>\n",
       "      <td>162.2</td>\n",
       "      <td>-1.00000</td>\n",
       "      <td>0.00000</td>\n",
       "      <td>0.00000</td>\n",
       "      <td>0.00000</td>\n",
       "      <td>0.0</td>\n",
       "      <td></td>\n",
       "      <td>0.000000</td>\n",
       "      <td>171.9</td>\n",
       "      <td>1.245</td>\n",
       "    </tr>\n",
       "  </tbody>\n",
       "</table>\n",
       "<p>548163 rows × 33 columns</p>\n",
       "</div>"
      ],
      "text/plain": [
       "        [QUOTE_UNIXTIME]   [QUOTE_READTIME]  [QUOTE_DATE]  \\\n",
       "0             1656705600   2022-07-01 16:00    2022-07-01   \n",
       "1             1656705600   2022-07-01 16:00    2022-07-01   \n",
       "2             1656705600   2022-07-01 16:00    2022-07-01   \n",
       "3             1656705600   2022-07-01 16:00    2022-07-01   \n",
       "4             1656705600   2022-07-01 16:00    2022-07-01   \n",
       "...                  ...                ...           ...   \n",
       "548158        1664568000   2022-09-30 16:00    2022-09-30   \n",
       "548159        1664568000   2022-09-30 16:00    2022-09-30   \n",
       "548160        1664568000   2022-09-30 16:00    2022-09-30   \n",
       "548161        1664568000   2022-09-30 16:00    2022-09-30   \n",
       "548162        1664568000   2022-09-30 16:00    2022-09-30   \n",
       "\n",
       "         [QUOTE_TIME_HOURS]   [UNDERLYING_LAST]  [EXPIRE_DATE]  \\\n",
       "0                      16.0              138.90     2022-07-01   \n",
       "1                      16.0              138.90     2022-07-01   \n",
       "2                      16.0              138.90     2022-07-01   \n",
       "3                      16.0              138.90     2022-07-01   \n",
       "4                      16.0              138.90     2022-07-01   \n",
       "...                     ...                 ...            ...   \n",
       "548158                 16.0              138.09     2025-01-17   \n",
       "548159                 16.0              138.09     2025-01-17   \n",
       "548160                 16.0              138.09     2025-01-17   \n",
       "548161                 16.0              138.09     2025-01-17   \n",
       "548162                 16.0              138.09     2025-01-17   \n",
       "\n",
       "         [EXPIRE_UNIX]   [DTE]   [C_DELTA]   [C_GAMMA]  ...   [P_LAST]  \\\n",
       "0           1656705600    0.00     1.00000     0.00000  ...   0.020000   \n",
       "1           1656705600    0.00     1.00000     0.00000  ...   0.010000   \n",
       "2           1656705600    0.00     1.00000     0.00000  ...   0.010000   \n",
       "3           1656705600    0.00     1.00000     0.00000  ...   0.010000   \n",
       "4           1656705600    0.00     0.99404     0.00067  ...   0.010000   \n",
       "...                ...     ...         ...         ...  ...        ...   \n",
       "548158      1737147600  840.04     0.14059     0.00348  ...      112.2   \n",
       "548159      1737147600  840.04     0.12515     0.00325  ...      122.0   \n",
       "548160      1737147600  840.04     0.10893     0.00298  ...     132.24   \n",
       "548161      1737147600  840.04     0.09147     0.00260  ...     149.28   \n",
       "548162      1737147600  840.04     0.08505     0.00246  ...      162.2   \n",
       "\n",
       "         [P_DELTA]   [P_GAMMA]  [P_VEGA]  [P_THETA]  [P_RHO]     [P_IV]  \\\n",
       "0         -0.00093     0.00004   0.00011   -0.00547      0.0   4.889460   \n",
       "1         -0.00066     0.00001   0.00061   -0.00491      0.0   4.422080   \n",
       "2         -0.00108     0.00009  -0.00012   -0.00455      0.0   3.984220   \n",
       "3         -0.00100     0.00015  -0.00018   -0.00525      0.0   3.571790   \n",
       "4         -0.00138     0.00014   0.00025   -0.00453      0.0   3.180820   \n",
       "...            ...         ...       ...        ...      ...        ...   \n",
       "548158    -1.00000     0.00000   0.00000    0.00000      0.0              \n",
       "548159    -1.00000     0.00000   0.00000    0.00000      0.0              \n",
       "548160    -1.00000     0.00000   0.00000    0.00000      0.0              \n",
       "548161    -1.00000     0.00000   0.00000    0.00000      0.0              \n",
       "548162    -1.00000     0.00000   0.00000    0.00000      0.0              \n",
       "\n",
       "        [P_VOLUME]  [STRIKE_DISTANCE]   [STRIKE_DISTANCE_PCT]  \n",
       "0         0.000000               68.9                   0.496  \n",
       "1         0.000000               63.9                   0.460  \n",
       "2         0.000000               58.9                   0.424  \n",
       "3         0.000000               53.9                   0.388  \n",
       "4         0.000000               48.9                   0.352  \n",
       "...            ...                ...                     ...  \n",
       "548158    0.000000              131.9                   0.955  \n",
       "548159    0.000000              141.9                   1.028  \n",
       "548160    0.000000              151.9                   1.100  \n",
       "548161    0.000000              161.9                   1.173  \n",
       "548162    0.000000              171.9                   1.245  \n",
       "\n",
       "[548163 rows x 33 columns]"
      ]
     },
     "execution_count": 2,
     "metadata": {},
     "output_type": "execute_result"
    }
   ],
   "source": [
    "raw_df = pd.read_csv(\"data/aapl-options-data-2020-2023/aapl_2021_2023.csv\")\n",
    "raw_df"
   ]
  },
  {
   "cell_type": "markdown",
   "id": "c5f0e882",
   "metadata": {
    "papermill": {
     "duration": 0.006341,
     "end_time": "2023-02-27T05:32:02.556525",
     "exception": false,
     "start_time": "2023-02-27T05:32:02.550184",
     "status": "completed"
    },
    "tags": []
   },
   "source": [
    "### I always use the info() method to look at the raw data. This will usually give me a pretty good picture of the information stored within the dataset.\n",
    "\n",
    "The info() method gives the user each column's index, name, null count, and datatype. It also gives you the size of the dataset, as well as the beginning and final index. This information will be of great use when conducting feature engineering steps such as imputation and scaling, as well as general considerations throughout the project."
   ]
  },
  {
   "cell_type": "code",
   "execution_count": 3,
   "id": "31aedd04",
   "metadata": {
    "papermill": {
     "duration": 1.093856,
     "end_time": "2023-02-27T05:32:03.657002",
     "exception": false,
     "start_time": "2023-02-27T05:32:02.563146",
     "status": "completed"
    },
    "tags": []
   },
   "outputs": [
    {
     "name": "stdout",
     "output_type": "stream",
     "text": [
      "<class 'pandas.core.frame.DataFrame'>\n",
      "RangeIndex: 548163 entries, 0 to 548162\n",
      "Data columns (total 33 columns):\n",
      " #   Column                  Non-Null Count   Dtype  \n",
      "---  ------                  --------------   -----  \n",
      " 0   [QUOTE_UNIXTIME]        548163 non-null  int64  \n",
      " 1    [QUOTE_READTIME]       548163 non-null  object \n",
      " 2    [QUOTE_DATE]           548163 non-null  object \n",
      " 3    [QUOTE_TIME_HOURS]     548163 non-null  float64\n",
      " 4    [UNDERLYING_LAST]      548163 non-null  float64\n",
      " 5    [EXPIRE_DATE]          548163 non-null  object \n",
      " 6    [EXPIRE_UNIX]          548163 non-null  int64  \n",
      " 7    [DTE]                  548163 non-null  float64\n",
      " 8    [C_DELTA]              548163 non-null  float64\n",
      " 9    [C_GAMMA]              548163 non-null  float64\n",
      " 10   [C_VEGA]               548163 non-null  float64\n",
      " 11   [C_THETA]              548163 non-null  float64\n",
      " 12   [C_RHO]                548163 non-null  float64\n",
      " 13   [C_IV]                 548163 non-null  object \n",
      " 14   [C_VOLUME]             548163 non-null  object \n",
      " 15   [C_LAST]               548163 non-null  object \n",
      " 16   [C_SIZE]               548163 non-null  object \n",
      " 17   [C_BID]                548163 non-null  object \n",
      " 18   [C_ASK]                548163 non-null  object \n",
      " 19   [STRIKE]               548163 non-null  float64\n",
      " 20   [P_BID]                548163 non-null  object \n",
      " 21   [P_ASK]                548163 non-null  object \n",
      " 22   [P_SIZE]               548163 non-null  object \n",
      " 23   [P_LAST]               548163 non-null  object \n",
      " 24   [P_DELTA]              548163 non-null  float64\n",
      " 25   [P_GAMMA]              548163 non-null  float64\n",
      " 26   [P_VEGA]               548163 non-null  float64\n",
      " 27   [P_THETA]              548163 non-null  float64\n",
      " 28   [P_RHO]                548163 non-null  float64\n",
      " 29   [P_IV]                 548163 non-null  object \n",
      " 30   [P_VOLUME]             548163 non-null  object \n",
      " 31   [STRIKE_DISTANCE]      548163 non-null  float64\n",
      " 32   [STRIKE_DISTANCE_PCT]  548163 non-null  float64\n",
      "dtypes: float64(16), int64(2), object(15)\n",
      "memory usage: 138.0+ MB\n"
     ]
    }
   ],
   "source": [
    "raw_df.info()"
   ]
  },
  {
   "cell_type": "markdown",
   "id": "e67cf92a",
   "metadata": {
    "papermill": {
     "duration": 0.006766,
     "end_time": "2023-02-27T05:32:03.670910",
     "exception": false,
     "start_time": "2023-02-27T05:32:03.664144",
     "status": "completed"
    },
    "tags": []
   },
   "source": [
    "### It always helps to have clean columns names.\n",
    "\n",
    "In this notebook, I simply used list comprehension to remove unwanted characters from the raw column names. This makes accessing and reading columns by their names easier."
   ]
  },
  {
   "cell_type": "code",
   "execution_count": 4,
   "id": "5c2f0339",
   "metadata": {
    "papermill": {
     "duration": 0.016739,
     "end_time": "2023-02-27T05:32:03.694663",
     "exception": false,
     "start_time": "2023-02-27T05:32:03.677924",
     "status": "completed"
    },
    "tags": []
   },
   "outputs": [],
   "source": [
    "columns = raw_df.columns\n",
    "columns = [s.replace(\"[\", \"\") for s in columns]\n",
    "columns = [s.replace(\"]\", \"\") for s in columns]\n",
    "columns = [s.replace(\" \", \"\") for s in columns]"
   ]
  },
  {
   "cell_type": "markdown",
   "id": "3bc800d6",
   "metadata": {
    "papermill": {
     "duration": 0.006548,
     "end_time": "2023-02-27T05:32:03.708402",
     "exception": false,
     "start_time": "2023-02-27T05:32:03.701854",
     "status": "completed"
    },
    "tags": []
   },
   "source": [
    "### Visualize to check code behavior!\n",
    "\n",
    "It is important to make sure to visualize your transformations after each step as a method of code verification. We want to make sure that we are changing exactly what we intend to on the dataset, and nothing more."
   ]
  },
  {
   "cell_type": "code",
   "execution_count": 5,
   "id": "44ed33fd",
   "metadata": {
    "papermill": {
     "duration": 0.016346,
     "end_time": "2023-02-27T05:32:03.731457",
     "exception": false,
     "start_time": "2023-02-27T05:32:03.715111",
     "status": "completed"
    },
    "tags": []
   },
   "outputs": [],
   "source": [
    "raw_df.columns = columns"
   ]
  },
  {
   "cell_type": "markdown",
   "id": "6c27db6c",
   "metadata": {
    "papermill": {
     "duration": 0.006426,
     "end_time": "2023-02-27T05:32:03.744687",
     "exception": false,
     "start_time": "2023-02-27T05:32:03.738261",
     "status": "completed"
    },
    "tags": []
   },
   "source": [
    "### Some columns will not be handled well when converting raw numeric strings to Python's integer and float datatypes.\n",
    "\n",
    "Therefore, we will treat these features separately and join them again later."
   ]
  },
  {
   "cell_type": "code",
   "execution_count": 6,
   "id": "81ba70d6",
   "metadata": {
    "papermill": {
     "duration": 0.018611,
     "end_time": "2023-02-27T05:32:03.770017",
     "exception": false,
     "start_time": "2023-02-27T05:32:03.751406",
     "status": "completed"
    },
    "tags": []
   },
   "outputs": [
    {
     "data": {
      "text/plain": [
       "['QUOTE_UNIXTIME',\n",
       " 'QUOTE_TIME_HOURS',\n",
       " 'UNDERLYING_LAST',\n",
       " 'EXPIRE_UNIX',\n",
       " 'DTE',\n",
       " 'C_DELTA',\n",
       " 'C_GAMMA',\n",
       " 'C_VEGA',\n",
       " 'C_THETA',\n",
       " 'C_RHO',\n",
       " 'C_IV',\n",
       " 'C_VOLUME',\n",
       " 'C_LAST',\n",
       " 'C_SIZE',\n",
       " 'C_BID',\n",
       " 'C_ASK',\n",
       " 'STRIKE',\n",
       " 'P_BID',\n",
       " 'P_ASK',\n",
       " 'P_SIZE',\n",
       " 'P_LAST',\n",
       " 'P_DELTA',\n",
       " 'P_GAMMA',\n",
       " 'P_VEGA',\n",
       " 'P_THETA',\n",
       " 'P_RHO',\n",
       " 'P_IV',\n",
       " 'P_VOLUME',\n",
       " 'STRIKE_DISTANCE',\n",
       " 'STRIKE_DISTANCE_PCT']"
      ]
     },
     "execution_count": 6,
     "metadata": {},
     "output_type": "execute_result"
    }
   ],
   "source": [
    "date_columns = [\"QUOTE_READTIME\", \"QUOTE_DATE\", \"EXPIRE_DATE\"]\n",
    "numeric_cols = raw_df.columns.to_list()\n",
    "numeric_cols.remove(\"QUOTE_READTIME\")\n",
    "numeric_cols.remove(\"QUOTE_DATE\")\n",
    "numeric_cols.remove(\"EXPIRE_DATE\")\n",
    "numeric_cols"
   ]
  },
  {
   "cell_type": "code",
   "execution_count": 7,
   "id": "4e199f2c",
   "metadata": {
    "papermill": {
     "duration": 10.257179,
     "end_time": "2023-02-27T05:32:14.035264",
     "exception": false,
     "start_time": "2023-02-27T05:32:03.778085",
     "status": "completed"
    },
    "tags": []
   },
   "outputs": [
    {
     "name": "stdout",
     "output_type": "stream",
     "text": [
      "<class 'pandas.core.frame.DataFrame'>\n",
      "RangeIndex: 548163 entries, 0 to 548162\n",
      "Data columns (total 30 columns):\n",
      " #   Column               Non-Null Count   Dtype  \n",
      "---  ------               --------------   -----  \n",
      " 0   QUOTE_UNIXTIME       548163 non-null  int64  \n",
      " 1   QUOTE_TIME_HOURS     548163 non-null  float64\n",
      " 2   UNDERLYING_LAST      548163 non-null  float64\n",
      " 3   EXPIRE_UNIX          548163 non-null  int64  \n",
      " 4   DTE                  548163 non-null  float64\n",
      " 5   C_DELTA              548163 non-null  float64\n",
      " 6   C_GAMMA              548163 non-null  float64\n",
      " 7   C_VEGA               548163 non-null  float64\n",
      " 8   C_THETA              548163 non-null  float64\n",
      " 9   C_RHO                548163 non-null  float64\n",
      " 10  C_IV                 518320 non-null  float64\n",
      " 11  C_VOLUME             493453 non-null  float64\n",
      " 12  C_LAST               547968 non-null  float64\n",
      " 13  C_SIZE               0 non-null       float64\n",
      " 14  C_BID                547968 non-null  float64\n",
      " 15  C_ASK                547968 non-null  float64\n",
      " 16  STRIKE               548163 non-null  float64\n",
      " 17  P_BID                547968 non-null  float64\n",
      " 18  P_ASK                547968 non-null  float64\n",
      " 19  P_SIZE               0 non-null       float64\n",
      " 20  P_LAST               547968 non-null  float64\n",
      " 21  P_DELTA              548163 non-null  float64\n",
      " 22  P_GAMMA              548163 non-null  float64\n",
      " 23  P_VEGA               548163 non-null  float64\n",
      " 24  P_THETA              548163 non-null  float64\n",
      " 25  P_RHO                548163 non-null  float64\n",
      " 26  P_IV                 503463 non-null  float64\n",
      " 27  P_VOLUME             472008 non-null  float64\n",
      " 28  STRIKE_DISTANCE      548163 non-null  float64\n",
      " 29  STRIKE_DISTANCE_PCT  548163 non-null  float64\n",
      "dtypes: float64(28), int64(2)\n",
      "memory usage: 125.5 MB\n"
     ]
    }
   ],
   "source": [
    "numeric_df = raw_df.drop(columns=date_columns)\n",
    "\n",
    "for i in numeric_cols:\n",
    "    numeric_df[i] = pd.to_numeric(numeric_df[i], errors=\"coerce\")\n",
    "\n",
    "numeric_df.info()"
   ]
  },
  {
   "cell_type": "markdown",
   "id": "77e5e2d5",
   "metadata": {
    "papermill": {
     "duration": 0.006928,
     "end_time": "2023-02-27T05:32:14.049554",
     "exception": false,
     "start_time": "2023-02-27T05:32:14.042626",
     "status": "completed"
    },
    "tags": []
   },
   "source": [
    "### We see that many columns have missing values. We will need to deal with this in later steps.\n",
    "\n",
    "The total number of rows in this dataset is 1015352, therefore any column that has a non-null count of less than this number will have missing values, or NaNs. This will propogate into an error during model training if not dealt with.\n",
    "\n",
    "We can also see that the C_SIZE and P_SIZE columns both have zero non-null count. We should investigate this."
   ]
  },
  {
   "cell_type": "code",
   "execution_count": 8,
   "id": "7b2ecc2f",
   "metadata": {
    "papermill": {
     "duration": 0.021183,
     "end_time": "2023-02-27T05:32:14.078282",
     "exception": false,
     "start_time": "2023-02-27T05:32:14.057099",
     "status": "completed"
    },
    "tags": []
   },
   "outputs": [
    {
     "data": {
      "text/plain": [
       "0        NaN\n",
       "1        NaN\n",
       "2        NaN\n",
       "3        NaN\n",
       "4        NaN\n",
       "          ..\n",
       "548158   NaN\n",
       "548159   NaN\n",
       "548160   NaN\n",
       "548161   NaN\n",
       "548162   NaN\n",
       "Name: C_SIZE, Length: 548163, dtype: float64"
      ]
     },
     "execution_count": 8,
     "metadata": {},
     "output_type": "execute_result"
    }
   ],
   "source": [
    "numeric_df[\"C_SIZE\"]"
   ]
  },
  {
   "cell_type": "code",
   "execution_count": 9,
   "id": "9abc208b",
   "metadata": {
    "papermill": {
     "duration": 0.021209,
     "end_time": "2023-02-27T05:32:14.106880",
     "exception": false,
     "start_time": "2023-02-27T05:32:14.085671",
     "status": "completed"
    },
    "tags": []
   },
   "outputs": [
    {
     "data": {
      "text/plain": [
       "0            16 x 16\n",
       "1              1 x 1\n",
       "2              1 x 1\n",
       "3              1 x 4\n",
       "4            86 x 19\n",
       "             ...    \n",
       "548158        41 x 3\n",
       "548159      54 x 182\n",
       "548160     124 x 135\n",
       "548161        91 x 5\n",
       "548162         5 x 3\n",
       "Name: C_SIZE, Length: 548163, dtype: object"
      ]
     },
     "execution_count": 9,
     "metadata": {},
     "output_type": "execute_result"
    }
   ],
   "source": [
    "raw_df[\"C_SIZE\"]"
   ]
  },
  {
   "cell_type": "markdown",
   "id": "6f974eed",
   "metadata": {
    "papermill": {
     "duration": 0.007144,
     "end_time": "2023-02-27T05:32:14.121646",
     "exception": false,
     "start_time": "2023-02-27T05:32:14.114502",
     "status": "completed"
    },
    "tags": []
   },
   "source": [
    "### It looks like this column has no data, therefore we can drop it from the dataset.\n",
    "\n",
    "This will organize our dataset and improve operation speed."
   ]
  },
  {
   "cell_type": "code",
   "execution_count": 10,
   "id": "dddab36f",
   "metadata": {
    "papermill": {
     "duration": 0.698061,
     "end_time": "2023-02-27T05:32:14.827263",
     "exception": false,
     "start_time": "2023-02-27T05:32:14.129202",
     "status": "completed"
    },
    "tags": []
   },
   "outputs": [],
   "source": [
    "data = raw_df.drop(columns=[\"C_SIZE\", \"P_SIZE\"])\n",
    "data = data.drop(columns=date_columns)"
   ]
  },
  {
   "cell_type": "code",
   "execution_count": 11,
   "id": "012b7bdd",
   "metadata": {
    "papermill": {
     "duration": 0.860799,
     "end_time": "2023-02-27T05:32:15.695665",
     "exception": false,
     "start_time": "2023-02-27T05:32:14.834866",
     "status": "completed"
    },
    "tags": []
   },
   "outputs": [
    {
     "name": "stdout",
     "output_type": "stream",
     "text": [
      "<class 'pandas.core.frame.DataFrame'>\n",
      "RangeIndex: 548163 entries, 0 to 548162\n",
      "Data columns (total 28 columns):\n",
      " #   Column               Non-Null Count   Dtype  \n",
      "---  ------               --------------   -----  \n",
      " 0   QUOTE_UNIXTIME       548163 non-null  int64  \n",
      " 1   QUOTE_TIME_HOURS     548163 non-null  float64\n",
      " 2   UNDERLYING_LAST      548163 non-null  float64\n",
      " 3   EXPIRE_UNIX          548163 non-null  int64  \n",
      " 4   DTE                  548163 non-null  float64\n",
      " 5   C_DELTA              548163 non-null  float64\n",
      " 6   C_GAMMA              548163 non-null  float64\n",
      " 7   C_VEGA               548163 non-null  float64\n",
      " 8   C_THETA              548163 non-null  float64\n",
      " 9   C_RHO                548163 non-null  float64\n",
      " 10  C_IV                 548163 non-null  object \n",
      " 11  C_VOLUME             548163 non-null  object \n",
      " 12  C_LAST               548163 non-null  object \n",
      " 13  C_BID                548163 non-null  object \n",
      " 14  C_ASK                548163 non-null  object \n",
      " 15  STRIKE               548163 non-null  float64\n",
      " 16  P_BID                548163 non-null  object \n",
      " 17  P_ASK                548163 non-null  object \n",
      " 18  P_LAST               548163 non-null  object \n",
      " 19  P_DELTA              548163 non-null  float64\n",
      " 20  P_GAMMA              548163 non-null  float64\n",
      " 21  P_VEGA               548163 non-null  float64\n",
      " 22  P_THETA              548163 non-null  float64\n",
      " 23  P_RHO                548163 non-null  float64\n",
      " 24  P_IV                 548163 non-null  object \n",
      " 25  P_VOLUME             548163 non-null  object \n",
      " 26  STRIKE_DISTANCE      548163 non-null  float64\n",
      " 27  STRIKE_DISTANCE_PCT  548163 non-null  float64\n",
      "dtypes: float64(16), int64(2), object(10)\n",
      "memory usage: 117.1+ MB\n"
     ]
    }
   ],
   "source": [
    "data.info()"
   ]
  },
  {
   "cell_type": "markdown",
   "id": "9ca3269f",
   "metadata": {
    "papermill": {
     "duration": 0.007587,
     "end_time": "2023-02-27T05:32:15.710919",
     "exception": false,
     "start_time": "2023-02-27T05:32:15.703332",
     "status": "completed"
    },
    "tags": []
   },
   "source": [
    "### At this point, we should can either choose to reintroduce the time features to the dataset or leave them off.\n",
    "\n",
    "I will leave this up to you! I'm curious what everyone will come up with!\n",
    "\n",
    "This dataset is a good glimpse into what real world datasets look like. They are messy, sometimes in odd formats, and have a ton of missing data. That makes this dataset a great one to practice on, as you will use these skills in your day to day in a professional setting.\n",
    "\n",
    "Remember that this dataset is a list of price quotes for Apple stock options (calls and puts, represented by C and P prefixes). Each row represents a quote at a given timestamp and strike price, therefore each day has a range of contract strike prices and its associated metadata and greeks. This makes the data difficult to work with, but offers a lot of variety to work with.\n",
    "\n",
    "If you found this content useful, please leave an upvote, comment, and/or a follow! I would really appreciate it! Thanks for sticking around to the end of this introduction!"
   ]
  },
  {
   "cell_type": "code",
   "execution_count": 12,
   "id": "cf05b943",
   "metadata": {
    "papermill": {
     "duration": 0.52688,
     "end_time": "2023-02-27T05:32:16.245318",
     "exception": false,
     "start_time": "2023-02-27T05:32:15.718438",
     "status": "completed"
    },
    "tags": []
   },
   "outputs": [
    {
     "data": {
      "text/plain": [
       "array([[<Axes: title={'center': 'DTE'}>]], dtype=object)"
      ]
     },
     "execution_count": 12,
     "metadata": {},
     "output_type": "execute_result"
    },
    {
     "data": {
      "image/png": "[encoded data removed]",
      "text/plain": [
       "<Figure size 640x480 with 1 Axes>"
      ]
     },
     "metadata": {},
     "output_type": "display_data"
    }
   ],
   "source": [
    "data.hist(column=\"DTE\", bins=100)"
   ]
  },
  {
   "cell_type": "markdown",
   "id": "5b2a841a",
   "metadata": {
    "papermill": {
     "duration": 0.007752,
     "end_time": "2023-02-27T05:32:16.261145",
     "exception": false,
     "start_time": "2023-02-27T05:32:16.253393",
     "status": "completed"
    },
    "tags": []
   },
   "source": [
    "### As we can see, there is a heavy skew towards shorter contracts in this dataset. \n",
    "\n",
    "In order to use this data for a viable trading strategy, we may want to consider truncating some longer duration contracts. The strategy proposed by https://tastytrade.com/, an options trading brokerage, recommends staying in the 45-60 day range when using the majority of trading strategies. We will explore the statistical backing behind this recommendation.\n",
    "\n",
    "P.S. - I have no affiliation with TastyTrade, just a fan of their work and free learning materials!"
   ]
  },
  {
   "cell_type": "code",
   "execution_count": 13,
   "id": "e80657df",
   "metadata": {
    "papermill": {
     "duration": 0.045043,
     "end_time": "2023-02-27T05:32:16.314224",
     "exception": false,
     "start_time": "2023-02-27T05:32:16.269181",
     "status": "completed"
    },
    "tags": []
   },
   "outputs": [
    {
     "data": {
      "text/html": [
       "<div>\n",
       "<style scoped>\n",
       "    .dataframe tbody tr th:only-of-type {\n",
       "        vertical-align: middle;\n",
       "    }\n",
       "\n",
       "    .dataframe tbody tr th {\n",
       "        vertical-align: top;\n",
       "    }\n",
       "\n",
       "    .dataframe thead th {\n",
       "        text-align: right;\n",
       "    }\n",
       "</style>\n",
       "<table border=\"1\" class=\"dataframe\">\n",
       "  <thead>\n",
       "    <tr style=\"text-align: right;\">\n",
       "      <th></th>\n",
       "      <th>count</th>\n",
       "    </tr>\n",
       "    <tr>\n",
       "      <th>DTE</th>\n",
       "      <th></th>\n",
       "    </tr>\n",
       "  </thead>\n",
       "  <tbody>\n",
       "    <tr>\n",
       "      <th>3.00</th>\n",
       "      <td>8103</td>\n",
       "    </tr>\n",
       "    <tr>\n",
       "      <th>1.00</th>\n",
       "      <td>8097</td>\n",
       "    </tr>\n",
       "    <tr>\n",
       "      <th>2.00</th>\n",
       "      <td>8070</td>\n",
       "    </tr>\n",
       "    <tr>\n",
       "      <th>0.00</th>\n",
       "      <td>7887</td>\n",
       "    </tr>\n",
       "    <tr>\n",
       "      <th>8.00</th>\n",
       "      <td>7483</td>\n",
       "    </tr>\n",
       "    <tr>\n",
       "      <th>...</th>\n",
       "      <td>...</td>\n",
       "    </tr>\n",
       "    <tr>\n",
       "      <th>800.96</th>\n",
       "      <td>28</td>\n",
       "    </tr>\n",
       "    <tr>\n",
       "      <th>797.96</th>\n",
       "      <td>28</td>\n",
       "    </tr>\n",
       "    <tr>\n",
       "      <th>798.96</th>\n",
       "      <td>28</td>\n",
       "    </tr>\n",
       "    <tr>\n",
       "      <th>799.96</th>\n",
       "      <td>28</td>\n",
       "    </tr>\n",
       "    <tr>\n",
       "      <th>801.96</th>\n",
       "      <td>28</td>\n",
       "    </tr>\n",
       "  </tbody>\n",
       "</table>\n",
       "<p>1643 rows × 1 columns</p>\n",
       "</div>"
      ],
      "text/plain": [
       "        count\n",
       "DTE          \n",
       "3.00     8103\n",
       "1.00     8097\n",
       "2.00     8070\n",
       "0.00     7887\n",
       "8.00     7483\n",
       "...       ...\n",
       "800.96     28\n",
       "797.96     28\n",
       "798.96     28\n",
       "799.96     28\n",
       "801.96     28\n",
       "\n",
       "[1643 rows x 1 columns]"
      ]
     },
     "execution_count": 13,
     "metadata": {},
     "output_type": "execute_result"
    }
   ],
   "source": [
    "values = pd.DataFrame(data.DTE.value_counts())\n",
    "values"
   ]
  },
  {
   "cell_type": "code",
   "execution_count": 14,
   "id": "72577f12",
   "metadata": {
    "papermill": {
     "duration": 4.461252,
     "end_time": "2023-02-27T05:32:20.784217",
     "exception": false,
     "start_time": "2023-02-27T05:32:16.322965",
     "status": "completed"
    },
    "tags": []
   },
   "outputs": [
    {
     "data": {
      "text/plain": [
       "Text(0.5, 1.0, 'AAPL Stock Price - 2016 to 2020')"
      ]
     },
     "execution_count": 14,
     "metadata": {},
     "output_type": "execute_result"
    },
    {
     "data": {
      "image/png": "[encoded data removed]",
      "text/plain": [
       "<Figure size 640x480 with 1 Axes>"
      ]
     },
     "metadata": {},
     "output_type": "display_data"
    }
   ],
   "source": [
    "plt.scatter(\n",
    "    pd.to_datetime(numeric_df[\"QUOTE_UNIXTIME\"], unit=\"s\"), numeric_df[\"UNDERLYING_LAST\"], color=\"black\", alpha=0.003\n",
    ")\n",
    "plt.ylabel(\"Price in USD\")\n",
    "plt.xlabel(\"Year\")\n",
    "plt.title(\"AAPL Stock Price - 2016 to 2020\")"
   ]
  },
  {
   "cell_type": "markdown",
   "id": "58254604",
   "metadata": {
    "papermill": {
     "duration": 0.008545,
     "end_time": "2023-02-27T05:32:20.801946",
     "exception": false,
     "start_time": "2023-02-27T05:32:20.793401",
     "status": "completed"
    },
    "tags": []
   },
   "source": [
    "### Notice that there is a discontinuity in the plot.\n",
    "\n",
    "This is due to a stock split. This practice reduces the price of an individual share so that more investors can invest in the stock, as the option to purchase partial shares are only offered at certain brokerages. The market cap of the stock does not change, but the number of stocks available and the price of those stocks do during a split. This is reflected in the data and is not an error in the data."
   ]
  },
  {
   "cell_type": "markdown",
   "id": "7b0b03c5",
   "metadata": {
    "papermill": {
     "duration": 0.008462,
     "end_time": "2023-02-27T05:32:20.819204",
     "exception": false,
     "start_time": "2023-02-27T05:32:20.810742",
     "status": "completed"
    },
    "tags": []
   },
   "source": [
    "### Feature extraction is a great way to derive insight and expand your dataset!\n",
    "\n",
    "In this application, we will look at whether or not a contract is currently in the money (ITM) or out of the money (OTM).\n"
   ]
  },
  {
   "cell_type": "code",
   "execution_count": null,
   "id": "6f0d78bf",
   "metadata": {
    "papermill": {
     "duration": 0.008626,
     "end_time": "2023-02-27T05:32:20.836799",
     "exception": false,
     "start_time": "2023-02-27T05:32:20.828173",
     "status": "completed"
    },
    "tags": []
   },
   "outputs": [],
   "source": []
  }
 ],
 "metadata": {
  "kernelspec": {
   "display_name": "Python 3 (ipykernel)",
   "language": "python",
   "name": "python3"
  },
  "language_info": {
   "codemirror_mode": {
    "name": "ipython",
    "version": 3
   },
   "file_extension": ".py",
   "mimetype": "text/x-python",
   "name": "python",
   "nbconvert_exporter": "python",
   "pygments_lexer": "ipython3",
   "version": "3.10.5"
  },
  "papermill": {
   "default_parameters": {},
   "duration": 42.448071,
   "end_time": "2023-02-27T05:32:21.988648",
   "environment_variables": {},
   "exception": null,
   "input_path": "__notebook__.ipynb",
   "output_path": "__notebook__.ipynb",
   "parameters": {},
   "start_time": "2023-02-27T05:31:39.540577",
   "version": "2.4.0"
  }
 },
 "nbformat": 4,
 "nbformat_minor": 5
}
