{
 "cells": [
  {
   "cell_type": "code",
   "execution_count": 1,
   "id": "58a7fbc0-7d3d-4d5c-987a-409bcaa91e37",
   "metadata": {},
   "outputs": [
    {
     "name": "stdout",
     "output_type": "stream",
     "text": [
      "Defaulting to user installation because normal site-packages is not writeable\n",
      "\u001b[31mERROR: Invalid requirement: '/Workspace/Shared/.bundle/prod/invaas/files'\n",
      "Hint: It looks like a path. File '/Workspace/Shared/.bundle/prod/invaas/files' does not exist.\u001b[0m\u001b[31m\n",
      "\u001b[0m\n",
      "\u001b[1m[\u001b[0m\u001b[34;49mnotice\u001b[0m\u001b[1;39;49m]\u001b[0m\u001b[39;49m A new release of pip is available: \u001b[0m\u001b[31;49m23.0.1\u001b[0m\u001b[39;49m -> \u001b[0m\u001b[32;49m23.3.1\u001b[0m\n",
      "\u001b[1m[\u001b[0m\u001b[34;49mnotice\u001b[0m\u001b[1;39;49m]\u001b[0m\u001b[39;49m To update, run: \u001b[0m\u001b[32;49mpip install --upgrade pip\u001b[0m\n",
      "Note: you may need to restart the kernel to use updated packages.\n"
     ]
    }
   ],
   "source": [
    "%pip install /Workspace/Shared/.bundle/prod/invaas/files"
   ]
  },
  {
   "cell_type": "code",
   "execution_count": 2,
   "id": "2fd2ae83",
   "metadata": {},
   "outputs": [
    {
     "name": "stdout",
     "output_type": "stream",
     "text": [
      "2023-12-03 21:21:19 WARNING No DBUtils defined in the runtime\n",
      "2023-12-03 21:21:19 INFO Initializing task for local environment\n",
      "2023-12-03 21:21:19 INFO Products to trade: ['ATOM-USD', 'BTC-USD', 'DOT-USD', 'ETH-USD', 'SOL-USD']\n",
      "2023-12-03 21:21:19 INFO Minimum fear greed index to buy: 60\n",
      "2023-12-03 21:21:19 INFO Current fear greed index: 73\n",
      "2023-12-03 21:21:19 INFO Min buy amount: $2\n",
      "2023-12-03 21:21:19 INFO Max buy amount: $100\n",
      "2023-12-03 21:21:19 INFO Max owned amount: $1000\n"
     ]
    }
   ],
   "source": [
    "import os\n",
    "import sys\n",
    "\n",
    "from dotenv import load_dotenv, find_dotenv\n",
    "\n",
    "load_dotenv(find_dotenv())\n",
    "app_env = os.getenv(\"APP-ENV\")\n",
    "\n",
    "sys.path.append((\n",
    "    \"/Workspace/Shared/.bundle/prod/invaas/files\"\n",
    "    if app_env != \"local\"\n",
    "    else os.path.abspath(os.path.join(\"..\"))\n",
    "))\n",
    "\n",
    "from invaas.main import Task\n",
    "\n",
    "task = Task(env=app_env)"
   ]
  },
  {
   "cell_type": "code",
   "execution_count": 3,
   "id": "f81dfce2",
   "metadata": {},
   "outputs": [
    {
     "name": "stdout",
     "output_type": "stream",
     "text": [
      "2023-12-03 21:21:19 INFO Running process for ATOM-USD\n",
      "2023-12-03 21:21:19 INFO Owned ATOM: 0.0000000000\n",
      "2023-12-03 21:21:19 INFO Current ATOM spot price: $9.47\n",
      "2023-12-03 21:21:20 INFO Available cash: $100.02\n",
      "2023-12-03 21:21:20 INFO Order side: BUY\n",
      "2023-12-03 21:21:20 INFO Buy amount: $2.00\n",
      "2023-12-03 21:21:20 INFO Placing market buy order for ATOM-USD: 336c04f1-ea77-410d-859c-085191839612\n",
      "\n",
      "2023-12-03 21:21:20 INFO Running process for BTC-USD\n",
      "2023-12-03 21:21:20 INFO Owned BTC: 0.0000000000\n",
      "2023-12-03 21:21:21 INFO Current BTC spot price: $39657.52\n",
      "2023-12-03 21:21:21 INFO Available cash: $98.02\n",
      "2023-12-03 21:21:21 INFO Order side: BUY\n",
      "2023-12-03 21:21:21 INFO Buy amount: $2.00\n",
      "2023-12-03 21:21:21 INFO Placing market buy order for BTC-USD: b98e2d6a-69f1-4254-bfe5-8e2fdbe1d396\n",
      "\n",
      "2023-12-03 21:21:21 INFO Running process for DOT-USD\n",
      "2023-12-03 21:21:22 INFO Owned DOT: 0.0000000000\n",
      "2023-12-03 21:21:22 INFO Current DOT spot price: $5.49\n",
      "2023-12-03 21:21:22 INFO Available cash: $96.02\n",
      "2023-12-03 21:21:22 INFO Order side: BUY\n",
      "2023-12-03 21:21:22 INFO Buy amount: $2.00\n",
      "2023-12-03 21:21:22 INFO Placing market buy order for DOT-USD: 563d8a0a-d302-47a2-b544-d46ce6a06f45\n",
      "\n",
      "2023-12-03 21:21:23 INFO Running process for ETH-USD\n",
      "2023-12-03 21:21:23 INFO Owned ETH: 0.0000000034\n",
      "2023-12-03 21:21:23 INFO Current ETH spot price: $2171.93\n",
      "2023-12-03 21:21:23 INFO Available cash: $94.02\n",
      "2023-12-03 21:21:23 INFO Order side: BUY\n",
      "2023-12-03 21:21:23 INFO Buy amount: $2.00\n",
      "2023-12-03 21:21:23 INFO Placing market buy order for ETH-USD: 13eda918-4c04-4214-8d22-c18f71b6a90a\n",
      "\n",
      "2023-12-03 21:21:24 INFO Running process for SOL-USD\n",
      "2023-12-03 21:21:24 INFO Owned SOL: 0.0000000000\n",
      "2023-12-03 21:21:24 INFO Current SOL spot price: $62.86\n",
      "2023-12-03 21:21:24 INFO Available cash: $92.02\n",
      "2023-12-03 21:21:24 INFO Order side: BUY\n",
      "2023-12-03 21:21:24 INFO Buy amount: $2.00\n",
      "2023-12-03 21:21:24 INFO Placing market buy order for SOL-USD: 91d8e78d-27d2-4a2e-a702-faad1f9f8b89\n",
      "\n"
     ]
    }
   ],
   "source": [
    "task.create_orders()"
   ]
  }
 ],
 "metadata": {
  "kernelspec": {
   "display_name": "Python 3 (ipykernel)",
   "language": "python",
   "name": "python3"
  },
  "language_info": {
   "codemirror_mode": {
    "name": "ipython",
    "version": 3
   },
   "file_extension": ".py",
   "mimetype": "text/x-python",
   "name": "python",
   "nbconvert_exporter": "python",
   "pygments_lexer": "ipython3",
   "version": "3.10.12"
  }
 },
 "nbformat": 4,
 "nbformat_minor": 5
}
