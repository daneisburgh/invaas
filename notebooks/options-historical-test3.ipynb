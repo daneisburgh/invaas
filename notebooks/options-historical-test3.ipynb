{
 "cells": [
  {
   "cell_type": "code",
   "execution_count": null,
   "id": "0209e11d-9722-4dff-b65a-706f256b8cc2",
   "metadata": {},
   "outputs": [],
   "source": [
    "import matplotlib.pyplot as plt\n",
    "import numpy as np\n",
    "import os\n",
    "import pandas as pd\n",
    "import pandas_ta as ta\n",
    "import yfinance as yf\n",
    "\n",
    "from matplotlib.pyplot import figure\n",
    "from pandarallel import pandarallel\n",
    "from scipy.stats import norm\n",
    "\n",
    "%matplotlib widget\n",
    "pd.options.display.max_columns = 100\n",
    "pd.options.display.max_rows = 100"
   ]
  },
  {
   "cell_type": "code",
   "execution_count": null,
   "id": "2b45bf79-f3db-4c78-9fc1-32df2a6c41ab",
   "metadata": {},
   "outputs": [],
   "source": [
    "dfs = []\n",
    "directory_path = \"data/spy-options-data-2020-2022\"\n",
    "\n",
    "for dirname, _, filenames in os.walk(directory_path):\n",
    "    for filename in filenames:\n",
    "        data_path = os.path.join(dirname, filename)\n",
    "        print(data_path)\n",
    "        dfs.append(pd.read_csv(data_path, low_memory=False))\n",
    "\n",
    "df_raw = pd.concat(dfs)\n",
    "columns = df_raw.columns\n",
    "columns = [s.replace(\"[\", \"\") for s in columns]\n",
    "columns = [s.replace(\"]\", \"\") for s in columns]\n",
    "columns = [s.replace(\" \", \"\") for s in columns]\n",
    "df_raw.columns = columns\n",
    "\n",
    "date_columns = [\"QUOTE_READTIME\", \"QUOTE_DATE\", \"EXPIRE_DATE\"]\n",
    "numeric_cols = df_raw.columns.to_list()\n",
    "numeric_cols.remove(\"QUOTE_READTIME\")\n",
    "numeric_cols.remove(\"QUOTE_DATE\")\n",
    "numeric_cols.remove(\"EXPIRE_DATE\")\n",
    "\n",
    "df_final = df_raw.drop(columns=date_columns)\n",
    "\n",
    "for i in numeric_cols:\n",
    "    df_final[i] = pd.to_numeric(df_final[i], errors=\"coerce\")\n",
    "\n",
    "df_final.drop(columns=[\"C_SIZE\", \"P_SIZE\"], inplace=True)\n",
    "df_final[\"EXPIRE_UNIX\"] = pd.to_datetime(df_final.EXPIRE_UNIX, unit=\"s\", utc=True)\n",
    "df_final[\"QUOTE_UNIXTIME\"] = pd.to_datetime(df_final.QUOTE_UNIXTIME, unit=\"s\", utc=True).apply(\n",
    "    lambda x: pd.Timestamp(x).round(freq=\"D\")\n",
    ")\n",
    "df_final[\"OPTION_ID\"] = (df_final[\"EXPIRE_UNIX\"].astype(str) + df_final[\"STRIKE\"].astype(str)).apply(lambda x: hash(x))\n",
    "df_final[\"QUOTE_ID\"] = (df_final[\"QUOTE_UNIXTIME\"].astype(str) + df_final[\"OPTION_ID\"].astype(str)).apply(\n",
    "    lambda x: hash(x)\n",
    ")\n",
    "# df_final.set_index(pd.DatetimeIndex(df_final.INDEX), inplace=True)\n",
    "# df_final.sort_index(inplace=True)\n",
    "\n",
    "df_final.sort_values(by=[\"QUOTE_UNIXTIME\", \"EXPIRE_UNIX\", \"STRIKE\"], inplace=True)\n",
    "df_final.reset_index(inplace=True, drop=True)\n",
    "\n",
    "df_final_total_options = df_final.groupby(\"OPTION_ID\", as_index=False).size().rename(columns={\"size\": \"total\"})\n",
    "df_final = df_final.loc[df_final.DTE < 60]\n",
    "df_final = df_final.loc[\n",
    "    df_final.OPTION_ID.isin(df_final_total_options.loc[df_final_total_options.total > 20].OPTION_ID)\n",
    "]\n",
    "\n",
    "df_final"
   ]
  },
  {
   "cell_type": "code",
   "execution_count": null,
   "id": "2ab587cf-e5af-4b2c-8397-974a98cd26d1",
   "metadata": {},
   "outputs": [],
   "source": [
    "periods = 10\n",
    "\n",
    "for column in [\"C_ASK\", \"P_ASK\"]:\n",
    "    max_ask_column = f\"MAX_{column}_{periods}\"\n",
    "    column_rename = {}\n",
    "    column_rename[column] = max_ask_column\n",
    "    df_final.drop(columns=max_ask_column, errors=\"ignore\", inplace=True)\n",
    "    df_rolling_max_ask = (\n",
    "        df_final.groupby(\"OPTION_ID\", as_index=False)[column]\n",
    "        .rolling(window=periods, min_periods=1)\n",
    "        .max()\n",
    "        .rename(columns=column_rename)\n",
    "        .drop(columns=[\"OPTION_ID\"])\n",
    "        .join(df_final)[[\"OPTION_ID\", max_ask_column]]\n",
    "        .groupby(\"OPTION_ID\", as_index=False)\n",
    "        .shift(periods=-periods)\n",
    "        .join(df_final)[[\"OPTION_ID\", max_ask_column]]\n",
    "        .drop(columns=[\"OPTION_ID\"])\n",
    "    )\n",
    "    df_final = df_final.join(df_rolling_max_ask)\n",
    "\n",
    "df_final"
   ]
  },
  {
   "cell_type": "code",
   "execution_count": null,
   "id": "951b18cc-de18-4e61-bee2-89de6e57b622",
   "metadata": {},
   "outputs": [],
   "source": [
    "min_change = 0.1\n",
    "\n",
    "max_c_ask_column = f\"MAX_C_ASK_{periods}\"\n",
    "max_p_ask_column = f\"MAX_P_ASK_{periods}\"\n",
    "\n",
    "df_final[f\"{max_c_ask_column}_DIFF\"] = df_final.C_ASK - df_final[max_c_ask_column]\n",
    "df_final[f\"{max_p_ask_column}_DIFF\"] = df_final.P_ASK - df_final[max_p_ask_column]\n",
    "df_final[f\"ASK_DIFF_TOTAL\"] = df_final[f\"{max_c_ask_column}_DIFF\"] + df_final[f\"{max_p_ask_column}_DIFF\"]\n",
    "\n",
    "\n",
    "def is_good_buy(row):\n",
    "    c_ask_change = 0 if row.C_ASK == 0 else (row[max_c_ask_column] - row.C_ASK) / row.C_ASK\n",
    "    p_ask_change = 0 if row.P_ASK == 0 else (row[max_p_ask_column] - row.P_ASK) / row.P_ASK\n",
    "    return c_ask_change > min_change or p_ask_change > min_change\n",
    "\n",
    "\n",
    "# df_final[\"GOOD_BUY\"] = df_final.apply(is_good_buy, axis=1)\n",
    "df_final[\"ASK_TOTAL\"] = df_final.C_ASK + df_final.P_ASK\n",
    "\n",
    "df_final"
   ]
  },
  {
   "cell_type": "code",
   "execution_count": null,
   "id": "8f3bf941-89a0-4188-bd2d-99fd8de9e09e",
   "metadata": {},
   "outputs": [],
   "source": [
    "# df_final.loc[(df_final.GOOD_BUY) & (df_final.ASK_TOTAL < 2)]\n",
    "# df_final.groupby(\"GOOD_BUY\", as_index=False).size()\n",
    "# df_final.describe().astype(str)\n",
    "# df_final.corr().astype(str)"
   ]
  },
  {
   "cell_type": "code",
   "execution_count": null,
   "id": "e19933fe-d970-4ae5-9b0e-bfc641a46ae8",
   "metadata": {},
   "outputs": [],
   "source": [
    "df_final.loc[df_final.QUOTE_UNIXTIME == \"2020-01-03 00:00:00+00:00\"]"
   ]
  }
 ],
 "metadata": {
  "kernelspec": {
   "display_name": "Python 3 (ipykernel)",
   "language": "python",
   "name": "python3"
  },
  "language_info": {
   "codemirror_mode": {
    "name": "ipython",
    "version": 3
   },
   "file_extension": ".py",
   "mimetype": "text/x-python",
   "name": "python",
   "nbconvert_exporter": "python",
   "pygments_lexer": "ipython3",
   "version": "3.10.12"
  }
 },
 "nbformat": 4,
 "nbformat_minor": 5
}
