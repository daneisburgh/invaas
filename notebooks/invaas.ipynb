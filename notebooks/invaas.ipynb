{
 "cells": [
  {
   "cell_type": "code",
   "execution_count": 1,
   "id": "58a7fbc0-7d3d-4d5c-987a-409bcaa91e37",
   "metadata": {},
   "outputs": [
    {
     "name": "stdout",
     "output_type": "stream",
     "text": [
      "2023-11-13 17:22:05 WARNING No DBUtils defined in the runtime\n",
      "2023-11-13 17:22:05 INFO Initializing task for local environment\n",
      "2023-11-13 17:22:05 INFO Products to trade: ['BTC-USD', 'ETH-USD']\n"
     ]
    }
   ],
   "source": [
    "import notebook_utils\n",
    "\n",
    "from invaas.main import Task\n",
    "\n",
    "task = Task(env=\"local\")"
   ]
  },
  {
   "cell_type": "code",
   "execution_count": 2,
   "id": "2a26c7ae-2519-4ab4-87ed-a2103ea9727e",
   "metadata": {},
   "outputs": [
    {
     "name": "stdout",
     "output_type": "stream",
     "text": [
      "2023-11-13 17:22:05 INFO Running process for BTC-USD\n",
      "2023-11-13 17:22:05 INFO Retrieving historical fear and greed index\n",
      "2023-11-13 17:22:06 INFO Retrieving historical data for BTC-USD\n",
      "2023-11-13 17:22:08 INFO Predict time: 2023-11-13T17:00:00\n",
      "2023-11-13 17:22:08 INFO Predicted change for BTC-USD: -0.458%\n",
      "2023-11-13 17:22:08 INFO Available BTC: 0.0000000000\n",
      "2023-11-13 17:22:08 INFO Sell amount: 0.0\n",
      "2023-11-13 17:22:08 INFO No BTC can be sold\n",
      "\n",
      "2023-11-13 17:22:08 INFO Running process for ETH-USD\n",
      "2023-11-13 17:22:08 INFO Retrieving historical data for ETH-USD\n",
      "2023-11-13 17:22:10 INFO Predict time: 2023-11-13T17:00:00\n",
      "2023-11-13 17:22:10 INFO Predicted change for ETH-USD: -0.540%\n",
      "2023-11-13 17:22:11 INFO Available ETH: 0.0000000050\n",
      "2023-11-13 17:22:11 INFO Sell amount: 0.0\n",
      "2023-11-13 17:22:11 INFO No ETH can be sold\n",
      "\n"
     ]
    }
   ],
   "source": [
    "for product_id in task.product_ids:\n",
    "    task.logger.info(f\"Running process for {product_id}\")\n",
    "    product_history_df = task.get_product_history_df(product_id)\n",
    "    product_next_open_pct_change = task.get_product_next_open_pct_change(product_history_df)\n",
    "    task.logger.info(f\"Predicted change for {product_id}: {product_next_open_pct_change:.3f}%\")\n",
    "\n",
    "    min_pct_change = 2\n",
    "\n",
    "    if product_next_open_pct_change < min_pct_change:\n",
    "        task.sell_product(product_id)\n",
    "    else:\n",
    "        task.buy_product(product_id)\n",
    "    \n",
    "    print()"
   ]
  }
 ],
 "metadata": {
  "kernelspec": {
   "display_name": "Python 3 (ipykernel)",
   "language": "python",
   "name": "python3"
  },
  "language_info": {
   "codemirror_mode": {
    "name": "ipython",
    "version": 3
   },
   "file_extension": ".py",
   "mimetype": "text/x-python",
   "name": "python",
   "nbconvert_exporter": "python",
   "pygments_lexer": "ipython3",
   "version": "3.10.12"
  }
 },
 "nbformat": 4,
 "nbformat_minor": 5
}
